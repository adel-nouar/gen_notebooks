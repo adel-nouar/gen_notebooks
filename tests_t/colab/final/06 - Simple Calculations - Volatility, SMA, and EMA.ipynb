{
 "cells": [
  {
   "cell_type": "markdown",
   "id": "89cb2796",
   "metadata": {},
   "source": [
    "<a \n",
    " href=\"https://colab.research.google.com/github/LearnPythonWithRune/tests_t\"\n",
    " target=\"_parent\">\n",
    "<img \n",
    " src=\"https://colab.research.google.com/assets/colab-badge.svg\"\n",
    "alt=\"Open In Colab\"/>\n",
    "</a>"
   ]
  },
  {
   "cell_type": "markdown",
   "id": "949333eb",
   "metadata": {},
   "source": [
    "# Calculating simple \n",
    "- Pct change\n",
    "- Log returns\n",
    "- Standard deviation (Volatility)\n",
    "- Rolling\n",
    "    - Simple Moving Avarage\n",
    "    - Exponential Moving Average"
   ]
  },
  {
   "cell_type": "markdown",
   "id": "724d6083",
   "metadata": {},
   "source": [
    "### Standard deviation\n",
    "\n",
    "- $\\sigma_{p} = \\sigma_{daily}\\times \\sqrt{p}$\n",
    "- $\\sigma_{annually} = \\sigma_{daily}\\times \\sqrt{252}$\n",
    " \n",
    "    *(252 trading days per year)*"
   ]
  },
  {
   "cell_type": "code",
   "execution_count": null,
   "id": "9ea6f896",
   "metadata": {},
   "outputs": [],
   "source": [
    "import pandas as pd\n",
    "import matplotlib.pyplot as plt\n",
    "%matplotlib notebook"
   ]
  },
  {
   "cell_type": "code",
   "execution_count": null,
   "id": "38b280fa",
   "metadata": {},
   "outputs": [],
   "source": [
    "remote_file = \"https://raw.githubusercontent.com/LearnPythonWithRune/FinancialDataAnalysisWithPython/main/AAPL.csv\"\n",
    "data = pd.read_csv(remote_file, index_col=0, parse_dates=True)"
   ]
  },
  {
   "cell_type": "code",
   "execution_count": null,
   "id": "34cce7d4",
   "metadata": {},
   "outputs": [],
   "source": [
    "data.head()"
   ]
  },
  {
   "cell_type": "code",
   "execution_count": null,
   "id": "219384cb",
   "metadata": {},
   "outputs": [],
   "source": [
    "data['%-chg'] = data['Close'].pct_change()"
   ]
  },
  {
   "cell_type": "code",
   "execution_count": null,
   "id": "8ed0be9b",
   "metadata": {},
   "outputs": [],
   "source": [
    "data.head()"
   ]
  },
  {
   "cell_type": "code",
   "execution_count": null,
   "id": "91dd6475",
   "metadata": {},
   "outputs": [],
   "source": [
    "(79.422501 - 77.237503)/77.237503"
   ]
  },
  {
   "cell_type": "code",
   "execution_count": null,
   "id": "f5196dda",
   "metadata": {},
   "outputs": [],
   "source": [
    "import numpy as np"
   ]
  },
  {
   "cell_type": "code",
   "execution_count": null,
   "id": "46b84b5e",
   "metadata": {},
   "outputs": [],
   "source": [
    "data['Log returns'] = np.log(data['Close']/data['Close'].shift())"
   ]
  },
  {
   "cell_type": "code",
   "execution_count": null,
   "id": "c4c114c0",
   "metadata": {},
   "outputs": [],
   "source": [
    "data.head()"
   ]
  },
  {
   "cell_type": "code",
   "execution_count": null,
   "id": "f942b6e4",
   "metadata": {},
   "outputs": [],
   "source": [
    "data['Log returns'].std()"
   ]
  },
  {
   "cell_type": "code",
   "execution_count": null,
   "id": "c78c6242",
   "metadata": {},
   "outputs": [],
   "source": [
    "volatility = data['Log returns'].std()*252**.5"
   ]
  },
  {
   "cell_type": "code",
   "execution_count": null,
   "id": "20039bac",
   "metadata": {},
   "outputs": [],
   "source": [
    "volatility"
   ]
  },
  {
   "cell_type": "code",
   "execution_count": null,
   "id": "4a34d7c6",
   "metadata": {},
   "outputs": [],
   "source": [
    "str_vol = str(round(volatility, 4)*100)"
   ]
  },
  {
   "cell_type": "code",
   "execution_count": null,
   "id": "cb2b014b",
   "metadata": {},
   "outputs": [],
   "source": [
    "str_vol"
   ]
  },
  {
   "cell_type": "code",
   "execution_count": null,
   "id": "1be4b6f3",
   "metadata": {},
   "outputs": [],
   "source": [
    "fig, ax = plt.subplots()\n",
    "data['Log returns'].hist(ax=ax, bins=50, alpha=0.6, color='b')\n",
    "ax.set_xlabel(\"Log return\")\n",
    "ax.set_ylabel(\"Freq of log return\")\n",
    "ax.set_title(\"AAPL volatility: \" + str_vol + \"%\")"
   ]
  },
  {
   "cell_type": "code",
   "execution_count": null,
   "id": "c7afe451",
   "metadata": {},
   "outputs": [],
   "source": [
    "data.head()"
   ]
  },
  {
   "cell_type": "code",
   "execution_count": null,
   "id": "1f76be0e",
   "metadata": {},
   "outputs": [],
   "source": [
    "data['MA10'] = data['Close'].rolling(10).mean()"
   ]
  },
  {
   "cell_type": "code",
   "execution_count": null,
   "id": "790ca7de",
   "metadata": {},
   "outputs": [],
   "source": [
    "data.tail()"
   ]
  },
  {
   "cell_type": "code",
   "execution_count": null,
   "id": "b2ce0864",
   "metadata": {},
   "outputs": [],
   "source": [
    "data['EMA10'] = data['Close'].ewm(span=10, adjust=False).mean()"
   ]
  },
  {
   "cell_type": "code",
   "execution_count": null,
   "id": "6d87d321",
   "metadata": {},
   "outputs": [],
   "source": [
    "data.tail()"
   ]
  },
  {
   "cell_type": "code",
   "execution_count": null,
   "id": "5e16bad5",
   "metadata": {},
   "outputs": [],
   "source": [
    "fig, ax = plt.subplots()\n",
    "data[['MA10', 'EMA10']].loc['2020-12-01':].plot(ax=ax)\n",
    "data['Close'].loc['2020-12-01':].plot(ax=ax, alpha=0.25)"
   ]
  },
  {
   "cell_type": "code",
   "execution_count": null,
   "id": "c846f86e",
   "metadata": {},
   "outputs": [],
   "source": []
  }
 ],
 "metadata": {},
 "nbformat": 4,
 "nbformat_minor": 5
}
