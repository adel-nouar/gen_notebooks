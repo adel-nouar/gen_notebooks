{
 "cells": [
  {
   "cell_type": "markdown",
   "id": "e9ea410a",
   "metadata": {},
   "source": [
    "<a \n",
    " href=\"https://colab.research.google.com/github/LearnPythonWithRune/tests_t\"\n",
    " target=\"_parent\">\n",
    "<img \n",
    " src=\"https://colab.research.google.com/assets/colab-badge.svg\"\n",
    "alt=\"Open In Colab\"/>\n",
    "</a>"
   ]
  },
  {
   "cell_type": "markdown",
   "id": "2e13770b",
   "metadata": {},
   "source": [
    "# Modify DataFrames and Useful functions\n",
    "- Calculate with columns\n",
    "- Create new columns\n",
    "- Drop columns\n",
    "- Min, Max, Argmin, and Argmax\n",
    "- Mean"
   ]
  },
  {
   "cell_type": "code",
   "execution_count": null,
   "id": "62682e90",
   "metadata": {},
   "outputs": [],
   "source": [
    "import pandas as pd"
   ]
  },
  {
   "cell_type": "code",
   "execution_count": null,
   "id": "25d6d6dc",
   "metadata": {},
   "outputs": [],
   "source": [
    "remote_file = \"https://raw.githubusercontent.com/LearnPythonWithRune/FinancialDataAnalysisWithPython/main/AAPL.csv\"\n",
    "data = pd.read_csv(remote_file, index_col=0, parse_dates=True)"
   ]
  },
  {
   "cell_type": "code",
   "execution_count": null,
   "id": "140908c4",
   "metadata": {},
   "outputs": [],
   "source": [
    "data.head()"
   ]
  },
  {
   "cell_type": "code",
   "execution_count": null,
   "id": "48c36adb",
   "metadata": {},
   "outputs": [],
   "source": [
    "data['Daily chg'] = data['Close'] - data['Open']"
   ]
  },
  {
   "cell_type": "code",
   "execution_count": null,
   "id": "7ee898a6",
   "metadata": {},
   "outputs": [],
   "source": [
    "data.head()"
   ]
  },
  {
   "cell_type": "code",
   "execution_count": null,
   "id": "a6a90da5",
   "metadata": {},
   "outputs": [],
   "source": [
    "data['Normalized'] = data['Close'] / data['Close'].iloc[0]"
   ]
  },
  {
   "cell_type": "code",
   "execution_count": null,
   "id": "6664bcf6",
   "metadata": {},
   "outputs": [],
   "source": [
    "data.head()"
   ]
  },
  {
   "cell_type": "code",
   "execution_count": null,
   "id": "b22e2c6c",
   "metadata": {},
   "outputs": [],
   "source": [
    "data.tail()"
   ]
  },
  {
   "cell_type": "code",
   "execution_count": null,
   "id": "24d7b384",
   "metadata": {},
   "outputs": [],
   "source": [
    "data['Close'].min()"
   ]
  },
  {
   "cell_type": "code",
   "execution_count": null,
   "id": "b2bea709",
   "metadata": {},
   "outputs": [],
   "source": [
    "data.min()"
   ]
  },
  {
   "cell_type": "code",
   "execution_count": null,
   "id": "03cccbed",
   "metadata": {},
   "outputs": [],
   "source": [
    "data['Close'].argmin()"
   ]
  },
  {
   "cell_type": "code",
   "execution_count": null,
   "id": "fe7329ab",
   "metadata": {},
   "outputs": [],
   "source": [
    "data.iloc[35:44]"
   ]
  },
  {
   "cell_type": "code",
   "execution_count": null,
   "id": "676ce35c",
   "metadata": {},
   "outputs": [],
   "source": [
    "data['Normalized'].min()"
   ]
  },
  {
   "cell_type": "code",
   "execution_count": null,
   "id": "cf8278a2",
   "metadata": {},
   "outputs": [],
   "source": [
    "data['Normalized'].argmin()"
   ]
  },
  {
   "cell_type": "code",
   "execution_count": null,
   "id": "1b5160e1",
   "metadata": {},
   "outputs": [],
   "source": [
    "data['Close'].max()"
   ]
  },
  {
   "cell_type": "code",
   "execution_count": null,
   "id": "9e182fef",
   "metadata": {},
   "outputs": [],
   "source": [
    "data['Close'].argmax()"
   ]
  },
  {
   "cell_type": "code",
   "execution_count": null,
   "id": "6b1d295b",
   "metadata": {},
   "outputs": [],
   "source": [
    "data.iloc[251:]"
   ]
  },
  {
   "cell_type": "code",
   "execution_count": null,
   "id": "b82f6c32",
   "metadata": {},
   "outputs": [],
   "source": [
    "data['Close'].mean()"
   ]
  },
  {
   "cell_type": "code",
   "execution_count": null,
   "id": "0c566e9a",
   "metadata": {},
   "outputs": [],
   "source": [
    "data.head()"
   ]
  },
  {
   "cell_type": "code",
   "execution_count": null,
   "id": "be4e0422",
   "metadata": {},
   "outputs": [],
   "source": [
    "data.drop(labels=['High', 'Low', 'Adj Close', 'Volume'], axis=1, inplace=True)"
   ]
  },
  {
   "cell_type": "code",
   "execution_count": null,
   "id": "2e056392",
   "metadata": {},
   "outputs": [],
   "source": [
    "data.head()"
   ]
  },
  {
   "cell_type": "code",
   "execution_count": null,
   "id": "973b7831",
   "metadata": {},
   "outputs": [],
   "source": []
  }
 ],
 "metadata": {},
 "nbformat": 4,
 "nbformat_minor": 5
}
