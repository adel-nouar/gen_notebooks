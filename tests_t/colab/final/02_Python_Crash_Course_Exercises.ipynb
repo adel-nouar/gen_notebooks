{
 "cells": [
  {
   "cell_type": "markdown",
   "id": "d6cae377",
   "metadata": {},
   "source": [
    "<a \n",
    " href=\"https://colab.research.google.com/github/LearnPythonWithRune/tests_t\"\n",
    " target=\"_parent\">\n",
    "<img \n",
    " src=\"https://colab.research.google.com/assets/colab-badge.svg\"\n",
    "alt=\"Open In Colab\"/>\n",
    "</a>"
   ]
  },
  {
   "cell_type": "markdown",
   "id": "ed34c94a",
   "metadata": {
    "colab_type": "text",
    "id": "view-in-github"
   },
   "source": [
    "<a \n",
    "href=\"https://colab.research.google.com/github/adel-nouar/Python_ML_DS_Masterclass/blob/main/02_Python_Crash_Course_Exercises.ipynb\" \n",
    "target=\"_parent\">\n",
    "<img \n",
    "src=\"https://colab.research.google.com/assets/colab-badge.svg\" \n",
    "alt=\"Open In Colab\"/>\n",
    "</a>"
   ]
  },
  {
   "cell_type": "markdown",
   "id": "6140bb54",
   "metadata": {
    "id": "CEPLhfaUh4_n"
   },
   "source": [
    "___\n",
    "\n",
    "<a href='http://www.pieriandata.com'> <img src='../Pierian_Data_Logo.png' /></a>\n",
    "___\n",
    "# Python Crash Course Exercises \n",
    "\n",
    "This is an optional exercise to test your understanding of Python Basics. If you find this extremely challenging, then you probably are not ready for the rest of this course yet and don't have enough programming experience to continue. I would suggest you take another course more geared towards complete beginners, such as [Complete Python Bootcamp](https://www.udemy.com/complete-python-bootcamp/?couponCode=PY20)"
   ]
  },
  {
   "cell_type": "markdown",
   "id": "50f4fe31",
   "metadata": {
    "id": "zm7dRKtuh4_t"
   },
   "source": [
    "## Exercises\n",
    "\n",
    "Answer the questions or complete the tasks outlined in bold below, use the specific method described if applicable."
   ]
  },
  {
   "cell_type": "markdown",
   "id": "71fd203c",
   "metadata": {
    "id": "N4wewgiWh4_u"
   },
   "source": [
    "** What is 7 to the power of 4?**"
   ]
  },
  {
   "cell_type": "code",
   "execution_count": 1,
   "id": "084989a4",
   "metadata": {
    "colab": {
     "base_uri": "https://localhost:8080/"
    },
    "id": "uNdjRkjrh4_u",
    "outputId": "ea521e6c-f077-4a91-fdbd-7342dc19406e"
   },
   "outputs": [
    {
     "data": {
      "text/plain": [
       "2401"
      ]
     },
     "execution_count": 1,
     "metadata": {},
     "output_type": "execute_result"
    }
   ],
   "source": [
    "7 ** 4"
   ]
  },
  {
   "cell_type": "markdown",
   "id": "40f195ba",
   "metadata": {
    "id": "prUdTS-_h4_w"
   },
   "source": [
    "** Split this string:**\n",
    "\n",
    "    s = \"Hi there Sam!\"\n",
    "    \n",
    "**into a list. **"
   ]
  },
  {
   "cell_type": "code",
   "execution_count": 4,
   "id": "223baa95",
   "metadata": {
    "collapsed": true,
    "id": "P2x03ea4h4_w"
   },
   "outputs": [],
   "source": [
    "s = \"Hi there Sam!\""
   ]
  },
  {
   "cell_type": "code",
   "execution_count": 5,
   "id": "580f7f82",
   "metadata": {
    "colab": {
     "base_uri": "https://localhost:8080/"
    },
    "id": "s3sUWvu9h4_x",
    "outputId": "28e80dad-3a08-4024-af2a-742c060daa32"
   },
   "outputs": [
    {
     "data": {
      "text/plain": [
       "['Hi', 'there', 'dad!']"
      ]
     },
     "execution_count": 5,
     "metadata": {},
     "output_type": "execute_result"
    }
   ],
   "source": [
    "l = s.split()\n",
    "l[2] = 'dad!'\n",
    "l"
   ]
  },
  {
   "cell_type": "markdown",
   "id": "db02aa95",
   "metadata": {
    "id": "F4HqFAUxh4_x"
   },
   "source": [
    "** Given the variables:**\n",
    "\n",
    "    planet = \"Earth\"\n",
    "    diameter = 12742\n",
    "\n",
    "** Use .format() to print the following string: **\n",
    "\n",
    "    The diameter of Earth is 12742 kilometers."
   ]
  },
  {
   "cell_type": "code",
   "execution_count": 6,
   "id": "845c750f",
   "metadata": {
    "collapsed": true,
    "id": "8K1hA3BLh4_y"
   },
   "outputs": [],
   "source": [
    "planet = \"Earth\"\n",
    "diameter = 12742"
   ]
  },
  {
   "cell_type": "code",
   "execution_count": 7,
   "id": "c493edef",
   "metadata": {
    "colab": {
     "base_uri": "https://localhost:8080/"
    },
    "id": "VFkJrS_dh4_z",
    "outputId": "c3c41eab-78f2-4898-fe26-69726aea571b"
   },
   "outputs": [
    {
     "name": "stdout",
     "output_type": "stream",
     "text": [
      "The diameter of Earth is 12742 kilometers.\n"
     ]
    }
   ],
   "source": [
    "print(f'The diameter of {planet} is {diameter} kilometers.')"
   ]
  },
  {
   "cell_type": "markdown",
   "id": "f0d23ecd",
   "metadata": {
    "id": "Pb_GvHJfh4_z"
   },
   "source": [
    "** Given this nested list, use indexing to grab the word \"hello\" **"
   ]
  },
  {
   "cell_type": "code",
   "execution_count": 8,
   "id": "03760c32",
   "metadata": {
    "collapsed": true,
    "id": "vOV7MnLqh4_0"
   },
   "outputs": [],
   "source": [
    "lst = [1,2,[3,4],[5,[100,200,['hello']],23,11],1,7]"
   ]
  },
  {
   "cell_type": "code",
   "execution_count": 9,
   "id": "bd380bda",
   "metadata": {
    "colab": {
     "base_uri": "https://localhost:8080/"
    },
    "id": "EYuspxZvh4_1",
    "outputId": "04a72bc3-f5f3-4044-9ad1-0682400115cd"
   },
   "outputs": [
    {
     "data": {
      "text/plain": [
       "['hello']"
      ]
     },
     "execution_count": 9,
     "metadata": {},
     "output_type": "execute_result"
    }
   ],
   "source": [
    "lst[3][1][2]"
   ]
  },
  {
   "cell_type": "markdown",
   "id": "56a5a6e1",
   "metadata": {
    "id": "g0ilNEvgh4_1"
   },
   "source": [
    "** Given this nested dictionary grab the word \"hello\". Be prepared, this will be annoying/tricky **"
   ]
  },
  {
   "cell_type": "code",
   "execution_count": 10,
   "id": "86d1f9a6",
   "metadata": {
    "id": "Y1t_ZtR5h4_2"
   },
   "outputs": [],
   "source": [
    "d = {'k1':[1,2,3,{'tricky':['oh','man','inception',{'target':[1,2,3,'hello']}]}]}"
   ]
  },
  {
   "cell_type": "code",
   "execution_count": 18,
   "id": "e96294c5",
   "metadata": {
    "colab": {
     "base_uri": "https://localhost:8080/",
     "height": 35
    },
    "id": "baR_EKKDh4_2",
    "outputId": "15443bf3-1670-4251-f024-9404369bf521"
   },
   "outputs": [
    {
     "data": {
      "application/vnd.google.colaboratory.intrinsic+json": {
       "type": "string"
      },
      "text/plain": [
       "'hello'"
      ]
     },
     "execution_count": 18,
     "metadata": {},
     "output_type": "execute_result"
    }
   ],
   "source": [
    "d['k1'][3]['tricky'][3]['target'][3]"
   ]
  },
  {
   "cell_type": "markdown",
   "id": "0b5ebe6e",
   "metadata": {
    "id": "Ryp-lItDh4_2"
   },
   "source": [
    "** What is the main difference between a tuple and a list? **"
   ]
  },
  {
   "cell_type": "code",
   "execution_count": null,
   "id": "9e7c6612",
   "metadata": {
    "collapsed": true,
    "id": "08L2HPUrh4_3"
   },
   "outputs": [],
   "source": [
    "# Tuple is immutable"
   ]
  },
  {
   "cell_type": "markdown",
   "id": "2bbf6700",
   "metadata": {
    "id": "x_PDa6Ydh4_3"
   },
   "source": [
    "** Create a function that grabs the email website domain from a string in the form: **\n",
    "\n",
    "    user@domain.com\n",
    "    \n",
    "**So for example, passing \"user@domain.com\" would return: domain.com**"
   ]
  },
  {
   "cell_type": "code",
   "execution_count": 19,
   "id": "1b18cf70",
   "metadata": {
    "collapsed": true,
    "id": "vqdmpmwKh4_3"
   },
   "outputs": [],
   "source": [
    "def domainGet(email:str):\n",
    "  return email.split('@')[-1]"
   ]
  },
  {
   "cell_type": "code",
   "execution_count": 20,
   "id": "24baf085",
   "metadata": {
    "colab": {
     "base_uri": "https://localhost:8080/",
     "height": 35
    },
    "id": "MJLh1Z4Ch4_4",
    "outputId": "9a599dca-0a6c-4fb8-c0a1-2794ad8d94d0"
   },
   "outputs": [
    {
     "data": {
      "application/vnd.google.colaboratory.intrinsic+json": {
       "type": "string"
      },
      "text/plain": [
       "'domain.com'"
      ]
     },
     "execution_count": 20,
     "metadata": {},
     "output_type": "execute_result"
    }
   ],
   "source": [
    "domainGet('user@domain.com')"
   ]
  },
  {
   "cell_type": "markdown",
   "id": "5de4dca1",
   "metadata": {
    "id": "FtIaYlv3h4_4"
   },
   "source": [
    "** Create a basic function that returns True if the word 'dog' is contained in the input string. Don't worry about edge cases like a punctuation being attached to the word dog, but do account for capitalization. **"
   ]
  },
  {
   "cell_type": "code",
   "execution_count": 3,
   "id": "0b65eb35",
   "metadata": {
    "collapsed": true,
    "id": "LMbOQ72ih4_4"
   },
   "outputs": [],
   "source": [
    "def findDog(message:str='NO'):\n",
    "    return message.lower().split().count('dog') > 0"
   ]
  },
  {
   "cell_type": "code",
   "execution_count": 4,
   "id": "ccbbb50d",
   "metadata": {
    "id": "C8PM8k3_h4_5",
    "outputId": "1d3ae177-0534-4e48-ad5f-0dd63df05545"
   },
   "outputs": [
    {
     "data": {
      "text/plain": [
       "True"
      ]
     },
     "execution_count": 4,
     "metadata": {},
     "output_type": "execute_result"
    }
   ],
   "source": [
    "findDog('Is there a dog here?')"
   ]
  },
  {
   "cell_type": "markdown",
   "id": "325a5faf",
   "metadata": {
    "id": "EpUV_Jlth4_5"
   },
   "source": [
    "** Create a function that counts the number of times the word \"dog\" occurs in a string. Again ignore edge cases. **"
   ]
  },
  {
   "cell_type": "code",
   "execution_count": 5,
   "id": "2badd220",
   "metadata": {
    "id": "uLZGLgmwh4_5"
   },
   "outputs": [],
   "source": [
    "def countDog(message:str):\n",
    "    return message.lower().split().count('dog')"
   ]
  },
  {
   "cell_type": "code",
   "execution_count": 6,
   "id": "c08aad21",
   "metadata": {
    "id": "6p7Fi-GVh4_5",
    "outputId": "3c8aa386-ee89-4d3f-dfd9-1cc3934f2459"
   },
   "outputs": [
    {
     "data": {
      "text/plain": [
       "2"
      ]
     },
     "execution_count": 6,
     "metadata": {},
     "output_type": "execute_result"
    }
   ],
   "source": [
    "countDog('This dog runs faster than the other dog dude!')"
   ]
  },
  {
   "cell_type": "markdown",
   "id": "545a2960",
   "metadata": {
    "id": "BO0xgi5Sh4_6"
   },
   "source": [
    "** Use lambda expressions and the filter() function to filter out words from a list that don't start with the letter 's'. For example:**\n",
    "\n",
    "    seq = ['soup','dog','salad','cat','great']\n",
    "\n",
    "**should be filtered down to:**\n",
    "\n",
    "    ['soup','salad']"
   ]
  },
  {
   "cell_type": "code",
   "execution_count": 7,
   "id": "4dcfb62e",
   "metadata": {
    "collapsed": true,
    "id": "2zZhRs8kh4_6"
   },
   "outputs": [],
   "source": [
    "seq = ['soup','dog','salad','cat','great']"
   ]
  },
  {
   "cell_type": "code",
   "execution_count": null,
   "id": "6d255732",
   "metadata": {
    "id": "dbCtoWeFh4_6",
    "outputId": "2cd0d6c4-151c-4316-cd97-b5e4d6c61f53"
   },
   "outputs": [
    {
     "data": {
      "text/plain": [
       "['soup', 'salad']"
      ]
     },
     "execution_count": 35,
     "metadata": {},
     "output_type": "execute_result"
    }
   ],
   "source": []
  },
  {
   "cell_type": "markdown",
   "id": "b48ac50b",
   "metadata": {
    "id": "TuMMP5jMh4_7"
   },
   "source": [
    "### Final Problem\n",
    "**You are driving a little too fast, and a police officer stops you. Write a function\n",
    "  to return one of 3 possible results: \"No ticket\", \"Small ticket\", or \"Big Ticket\". \n",
    "  If your speed is 60 or less, the result is \"No Ticket\". If speed is between 61 \n",
    "  and 80 inclusive, the result is \"Small Ticket\". If speed is 81 or more, the result is \"Big    Ticket\". Unless it is your birthday (encoded as a boolean value in the parameters of the function) -- on your birthday, your speed can be 5 higher in all \n",
    "  cases. **"
   ]
  },
  {
   "cell_type": "code",
   "execution_count": null,
   "id": "54840170",
   "metadata": {
    "collapsed": true,
    "id": "DzESVp0zh4_7"
   },
   "outputs": [],
   "source": [
    "def caught_speeding(speed, is_birthday):\n",
    "    pass"
   ]
  },
  {
   "cell_type": "code",
   "execution_count": null,
   "id": "9cf911f0",
   "metadata": {
    "id": "rbIsbVDWh4_8",
    "outputId": "d1eb10bd-1883-4938-d7cb-d0ea7198223e"
   },
   "outputs": [
    {
     "data": {
      "text/plain": [
       "'Small Ticket'"
      ]
     },
     "execution_count": 42,
     "metadata": {},
     "output_type": "execute_result"
    }
   ],
   "source": [
    "caught_speeding(81,True)"
   ]
  },
  {
   "cell_type": "code",
   "execution_count": null,
   "id": "e2a82a83",
   "metadata": {
    "id": "qmNBCPm8h4_8",
    "outputId": "c527ad41-0eed-4203-9acc-b04a3b491770"
   },
   "outputs": [
    {
     "data": {
      "text/plain": [
       "'Big Ticket'"
      ]
     },
     "execution_count": 43,
     "metadata": {},
     "output_type": "execute_result"
    }
   ],
   "source": [
    "caught_speeding(81,False)"
   ]
  },
  {
   "cell_type": "markdown",
   "id": "8287cef8",
   "metadata": {
    "id": "GrkWJnnNh4_9"
   },
   "source": [
    "# Great job!"
   ]
  }
 ],
 "metadata": {},
 "nbformat": 4,
 "nbformat_minor": 5
}
