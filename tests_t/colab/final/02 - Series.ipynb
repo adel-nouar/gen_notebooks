{
 "cells": [
  {
   "cell_type": "markdown",
   "id": "b893e180",
   "metadata": {},
   "source": [
    "<a \n",
    " href=\"https://colab.research.google.com/github/LearnPythonWithRune/tests_t\"\n",
    " target=\"_parent\">\n",
    "<img \n",
    " src=\"https://colab.research.google.com/assets/colab-badge.svg\"\n",
    "alt=\"Open In Colab\"/>\n",
    "</a>"
   ]
  },
  {
   "cell_type": "markdown",
   "id": "206c983b",
   "metadata": {},
   "source": [
    "# Series\n",
    "- Use **type** to get data type\n",
    "- Each column is a Series\n",
    "- Series show data type (dtype)\n",
    "- Calculate with Series\n",
    "    - Daily change\n",
    "    - Daily percentage change\n",
    "    - Normalize data\n",
    "- Similar to Excel\n",
    "- Indexing with Series"
   ]
  },
  {
   "cell_type": "code",
   "execution_count": null,
   "id": "cd76998a",
   "metadata": {},
   "outputs": [],
   "source": [
    "import pandas as pd"
   ]
  },
  {
   "cell_type": "code",
   "execution_count": null,
   "id": "46c87ca0",
   "metadata": {},
   "outputs": [],
   "source": [
    "remote_file = \"https://raw.githubusercontent.com/LearnPythonWithRune/FinancialDataAnalysisWithPython/main/AAPL.csv\"\n",
    "data = pd.read_csv(remote_file, index_col=0, parse_dates=True)"
   ]
  },
  {
   "cell_type": "code",
   "execution_count": null,
   "id": "e545164a",
   "metadata": {
    "scrolled": true
   },
   "outputs": [],
   "source": [
    "data.head()"
   ]
  },
  {
   "cell_type": "code",
   "execution_count": null,
   "id": "62bbd859",
   "metadata": {},
   "outputs": [],
   "source": [
    "data.dtypes"
   ]
  },
  {
   "cell_type": "code",
   "execution_count": null,
   "id": "011d415c",
   "metadata": {},
   "outputs": [],
   "source": [
    "type(data)"
   ]
  },
  {
   "cell_type": "code",
   "execution_count": null,
   "id": "91b37001",
   "metadata": {},
   "outputs": [],
   "source": [
    "data['Close']"
   ]
  },
  {
   "cell_type": "code",
   "execution_count": null,
   "id": "3fdf097b",
   "metadata": {},
   "outputs": [],
   "source": [
    "type(data['Close'])"
   ]
  },
  {
   "cell_type": "code",
   "execution_count": null,
   "id": "9447b400",
   "metadata": {},
   "outputs": [],
   "source": [
    "daily_chg = data['Open'] - data['Close']"
   ]
  },
  {
   "cell_type": "code",
   "execution_count": null,
   "id": "6b06050a",
   "metadata": {},
   "outputs": [],
   "source": [
    "data.head()"
   ]
  },
  {
   "cell_type": "code",
   "execution_count": null,
   "id": "a313b3c3",
   "metadata": {},
   "outputs": [],
   "source": [
    "daily_chg"
   ]
  },
  {
   "cell_type": "code",
   "execution_count": null,
   "id": "3209c346",
   "metadata": {},
   "outputs": [],
   "source": [
    "type(daily_chg)"
   ]
  },
  {
   "cell_type": "code",
   "execution_count": null,
   "id": "0300c8d1",
   "metadata": {},
   "outputs": [],
   "source": [
    "daily_pct_chg = (data['Close'] - data['Open'])/data['Open']*100"
   ]
  },
  {
   "cell_type": "code",
   "execution_count": null,
   "id": "bda4bb35",
   "metadata": {},
   "outputs": [],
   "source": [
    "daily_pct_chg"
   ]
  },
  {
   "cell_type": "code",
   "execution_count": null,
   "id": "07325293",
   "metadata": {},
   "outputs": [],
   "source": [
    "data['Close'].iloc[0]"
   ]
  },
  {
   "cell_type": "code",
   "execution_count": null,
   "id": "03e57959",
   "metadata": {},
   "outputs": [],
   "source": [
    "data['Close'].iloc[-1]"
   ]
  },
  {
   "cell_type": "code",
   "execution_count": null,
   "id": "686d1847",
   "metadata": {},
   "outputs": [],
   "source": [
    "norm = data['Close']/data['Close'].iloc[0]"
   ]
  },
  {
   "cell_type": "code",
   "execution_count": null,
   "id": "7ca802a7",
   "metadata": {},
   "outputs": [],
   "source": [
    "norm"
   ]
  },
  {
   "cell_type": "code",
   "execution_count": null,
   "id": "51e05665",
   "metadata": {},
   "outputs": [],
   "source": [
    "data['Close'].iloc[0]*norm.iloc[-1]"
   ]
  },
  {
   "cell_type": "code",
   "execution_count": null,
   "id": "7f500c8f",
   "metadata": {},
   "outputs": [],
   "source": [
    "data['Close'].iloc[-1]"
   ]
  },
  {
   "cell_type": "code",
   "execution_count": null,
   "id": "c4b28ec7",
   "metadata": {},
   "outputs": [],
   "source": []
  }
 ],
 "metadata": {},
 "nbformat": 4,
 "nbformat_minor": 5
}
