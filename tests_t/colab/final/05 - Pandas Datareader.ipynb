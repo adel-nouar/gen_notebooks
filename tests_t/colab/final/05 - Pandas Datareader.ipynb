{
 "cells": [
  {
   "cell_type": "markdown",
   "id": "9475e859",
   "metadata": {},
   "source": [
    "<a \n",
    " href=\"https://colab.research.google.com/github/LearnPythonWithRune/tests_t\"\n",
    " target=\"_parent\">\n",
    "<img \n",
    " src=\"https://colab.research.google.com/assets/colab-badge.svg\"\n",
    "alt=\"Open In Colab\"/>\n",
    "</a>"
   ]
  },
  {
   "cell_type": "markdown",
   "id": "b143a340",
   "metadata": {},
   "source": [
    "# Pandas-datareader\n",
    "- https://pandas-datareader.readthedocs.io/en/latest/"
   ]
  },
  {
   "cell_type": "code",
   "execution_count": null,
   "id": "f1d93794",
   "metadata": {},
   "outputs": [],
   "source": [
    "import pandas_datareader as pdr"
   ]
  },
  {
   "cell_type": "code",
   "execution_count": null,
   "id": "0212fa26",
   "metadata": {},
   "outputs": [],
   "source": [
    "import datetime as dt"
   ]
  },
  {
   "cell_type": "code",
   "execution_count": null,
   "id": "12ef36bb",
   "metadata": {},
   "outputs": [],
   "source": [
    "ticker = \"AAPL\"\n",
    "start = dt.datetime(2019, 1, 1)\n",
    "end = dt.datetime(2020, 12, 31)\n",
    "\n",
    "data = pdr.get_data_yahoo(ticker, start, end)"
   ]
  },
  {
   "cell_type": "code",
   "execution_count": null,
   "id": "18ed8ec0",
   "metadata": {},
   "outputs": [],
   "source": [
    "data.head()"
   ]
  },
  {
   "cell_type": "code",
   "execution_count": null,
   "id": "748d4486",
   "metadata": {},
   "outputs": [],
   "source": [
    "data.index"
   ]
  },
  {
   "cell_type": "code",
   "execution_count": null,
   "id": "a79704f9",
   "metadata": {},
   "outputs": [],
   "source": [
    "data.dtypes"
   ]
  },
  {
   "cell_type": "code",
   "execution_count": null,
   "id": "e04f8905",
   "metadata": {},
   "outputs": [],
   "source": [
    "data.tail()"
   ]
  },
  {
   "cell_type": "code",
   "execution_count": null,
   "id": "1f9d6a32",
   "metadata": {},
   "outputs": [],
   "source": [
    "data2 = pdr.get_data_stooq(ticker, start)"
   ]
  },
  {
   "cell_type": "code",
   "execution_count": null,
   "id": "427ff552",
   "metadata": {},
   "outputs": [],
   "source": [
    "data2.head()"
   ]
  },
  {
   "cell_type": "code",
   "execution_count": null,
   "id": "c55aa112",
   "metadata": {},
   "outputs": [],
   "source": [
    "data2.tail()"
   ]
  },
  {
   "cell_type": "code",
   "execution_count": null,
   "id": "287edb27",
   "metadata": {},
   "outputs": [],
   "source": [
    "nasdaq_sym = pdr.get_nasdaq_symbols()"
   ]
  },
  {
   "cell_type": "code",
   "execution_count": null,
   "id": "8d5e5d91",
   "metadata": {},
   "outputs": [],
   "source": [
    "nasdaq_sym.loc['AAPL']"
   ]
  },
  {
   "cell_type": "code",
   "execution_count": null,
   "id": "ea4cb30b",
   "metadata": {
    "scrolled": true
   },
   "outputs": [],
   "source": [
    "len(nasdaq_sym)"
   ]
  },
  {
   "cell_type": "code",
   "execution_count": null,
   "id": "26f02bc8",
   "metadata": {},
   "outputs": [],
   "source": []
  }
 ],
 "metadata": {},
 "nbformat": 4,
 "nbformat_minor": 5
}
