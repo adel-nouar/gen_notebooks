{
 "cells": [
  {
   "cell_type": "markdown",
   "id": "241b92ff",
   "metadata": {},
   "source": [
    "<a href=\"https://colab.research.google.com/github/LearnPythonWithRune/FinancialDataAnalysisWithPython\" target=\"_parent\"><img src=\"https://colab.research.google.com/assets/colab-badge.svg\"alt=\"Open In Colab\"/></a>"
   ]
  }
 ],
 "metadata": {},
 "nbformat": 4,
 "nbformat_minor": 5
}
