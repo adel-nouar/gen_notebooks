{
 "cells": [
  {
   "cell_type": "markdown",
   "id": "f50cc9ee",
   "metadata": {},
   "source": [
    "<a \n",
    " href=\"https://colab.research.google.com/github/LearnPythonWithRune/FinancialDataAnalysisWithPython\"\n",
    " target=\"_parent\">\n",
    "<img \n",
    " src=\"https://colab.research.google.com/assets/colab-badge.svg\"\n",
    "alt=\"Open In Colab\"/>\n",
    "</a>"
   ]
  },
  {
   "cell_type": "markdown",
   "id": "45798355",
   "metadata": {},
   "source": [
    "# Series\n",
    "- Use **type** to get data type\n",
    "- Each column is a Series\n",
    "- Series show data type (dtype)\n",
    "- Calculate with Series\n",
    "    - Daily change\n",
    "    - Daily percentage change\n",
    "    - Normalize data\n",
    "- Similar to Excel\n",
    "- Indexing with Series"
   ]
  },
  {
   "cell_type": "code",
   "execution_count": null,
   "id": "ef2702a6",
   "metadata": {},
   "outputs": [],
   "source": [
    "import pandas as pd"
   ]
  },
  {
   "cell_type": "code",
   "execution_count": null,
   "id": "b83dc92e",
   "metadata": {},
   "outputs": [],
   "source": [
    "remote_file = \"https://raw.githubusercontent.com/LearnPythonWithRune/FinancialDataAnalysisWithPython/main/AAPL.csv\"\n",
    "data = pd.read_csv(remote_file, index_col=0, parse_dates=True)"
   ]
  },
  {
   "cell_type": "code",
   "execution_count": null,
   "id": "cab760a7",
   "metadata": {
    "scrolled": true
   },
   "outputs": [],
   "source": [
    "data.head()"
   ]
  },
  {
   "cell_type": "code",
   "execution_count": null,
   "id": "9baff8f0",
   "metadata": {},
   "outputs": [],
   "source": [
    "data.dtypes"
   ]
  },
  {
   "cell_type": "code",
   "execution_count": null,
   "id": "35227ef9",
   "metadata": {},
   "outputs": [],
   "source": [
    "type(data)"
   ]
  },
  {
   "cell_type": "code",
   "execution_count": null,
   "id": "30c894a5",
   "metadata": {},
   "outputs": [],
   "source": [
    "data['Close']"
   ]
  },
  {
   "cell_type": "code",
   "execution_count": null,
   "id": "d78d5e50",
   "metadata": {},
   "outputs": [],
   "source": [
    "type(data['Close'])"
   ]
  },
  {
   "cell_type": "code",
   "execution_count": null,
   "id": "11749640",
   "metadata": {},
   "outputs": [],
   "source": [
    "daily_chg = data['Open'] - data['Close']"
   ]
  },
  {
   "cell_type": "code",
   "execution_count": null,
   "id": "8227b8de",
   "metadata": {},
   "outputs": [],
   "source": [
    "data.head()"
   ]
  },
  {
   "cell_type": "code",
   "execution_count": null,
   "id": "ffcea2a0",
   "metadata": {},
   "outputs": [],
   "source": [
    "daily_chg"
   ]
  },
  {
   "cell_type": "code",
   "execution_count": null,
   "id": "8a942bc8",
   "metadata": {},
   "outputs": [],
   "source": [
    "type(daily_chg)"
   ]
  },
  {
   "cell_type": "code",
   "execution_count": null,
   "id": "533af389",
   "metadata": {},
   "outputs": [],
   "source": [
    "daily_pct_chg = (data['Close'] - data['Open'])/data['Open']*100"
   ]
  },
  {
   "cell_type": "code",
   "execution_count": null,
   "id": "1b7be146",
   "metadata": {},
   "outputs": [],
   "source": [
    "daily_pct_chg"
   ]
  },
  {
   "cell_type": "code",
   "execution_count": null,
   "id": "5315c9a5",
   "metadata": {},
   "outputs": [],
   "source": [
    "data['Close'].iloc[0]"
   ]
  },
  {
   "cell_type": "code",
   "execution_count": null,
   "id": "8bce2e5d",
   "metadata": {},
   "outputs": [],
   "source": [
    "data['Close'].iloc[-1]"
   ]
  },
  {
   "cell_type": "code",
   "execution_count": null,
   "id": "1640655e",
   "metadata": {},
   "outputs": [],
   "source": [
    "norm = data['Close']/data['Close'].iloc[0]"
   ]
  },
  {
   "cell_type": "code",
   "execution_count": null,
   "id": "ffd97109",
   "metadata": {},
   "outputs": [],
   "source": [
    "norm"
   ]
  },
  {
   "cell_type": "code",
   "execution_count": null,
   "id": "be950666",
   "metadata": {},
   "outputs": [],
   "source": [
    "data['Close'].iloc[0]*norm.iloc[-1]"
   ]
  },
  {
   "cell_type": "code",
   "execution_count": null,
   "id": "7e0899aa",
   "metadata": {},
   "outputs": [],
   "source": [
    "data['Close'].iloc[-1]"
   ]
  },
  {
   "cell_type": "code",
   "execution_count": null,
   "id": "5b4f798e",
   "metadata": {},
   "outputs": [],
   "source": []
  }
 ],
 "metadata": {},
 "nbformat": 4,
 "nbformat_minor": 5
}
