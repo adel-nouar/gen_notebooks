{
 "cells": [
  {
   "cell_type": "markdown",
   "id": "4f2157d3",
   "metadata": {},
   "source": [
    "<a \n",
    " href=\"https://colab.research.google.com/github/LearnPythonWithRune/FinancialDataAnalysisWithPython/blob/main/05 - Pandas Datareader.ipynb\"\n",
    " target=\"_parent\">\n",
    "<img \n",
    " src=\"https://colab.research.google.com/assets/colab-badge.svg\"\n",
    "alt=\"Open In Colab\"/>\n",
    "</a>"
   ]
  },
  {
   "cell_type": "markdown",
   "id": "05d0e625",
   "metadata": {},
   "source": [
    "# Pandas-datareader\n",
    "- https://pandas-datareader.readthedocs.io/en/latest/"
   ]
  },
  {
   "cell_type": "code",
   "execution_count": null,
   "id": "bfe685a6",
   "metadata": {},
   "outputs": [],
   "source": [
    "import pandas_datareader as pdr"
   ]
  },
  {
   "cell_type": "code",
   "execution_count": null,
   "id": "bee5e27e",
   "metadata": {},
   "outputs": [],
   "source": [
    "import datetime as dt"
   ]
  },
  {
   "cell_type": "code",
   "execution_count": null,
   "id": "25fe46a0",
   "metadata": {},
   "outputs": [],
   "source": [
    "ticker = \"AAPL\"\n",
    "start = dt.datetime(2019, 1, 1)\n",
    "end = dt.datetime(2020, 12, 31)\n",
    "\n",
    "data = pdr.get_data_yahoo(ticker, start, end)"
   ]
  },
  {
   "cell_type": "code",
   "execution_count": null,
   "id": "00f1a81b",
   "metadata": {},
   "outputs": [],
   "source": [
    "data.head()"
   ]
  },
  {
   "cell_type": "code",
   "execution_count": null,
   "id": "476ab220",
   "metadata": {},
   "outputs": [],
   "source": [
    "data.index"
   ]
  },
  {
   "cell_type": "code",
   "execution_count": null,
   "id": "bb3ceabb",
   "metadata": {},
   "outputs": [],
   "source": [
    "data.dtypes"
   ]
  },
  {
   "cell_type": "code",
   "execution_count": null,
   "id": "f258f7b3",
   "metadata": {},
   "outputs": [],
   "source": [
    "data.tail()"
   ]
  },
  {
   "cell_type": "code",
   "execution_count": null,
   "id": "9de48543",
   "metadata": {},
   "outputs": [],
   "source": [
    "data2 = pdr.get_data_stooq(ticker, start)"
   ]
  },
  {
   "cell_type": "code",
   "execution_count": null,
   "id": "9082283b",
   "metadata": {},
   "outputs": [],
   "source": [
    "data2.head()"
   ]
  },
  {
   "cell_type": "code",
   "execution_count": null,
   "id": "e5ed8a1a",
   "metadata": {},
   "outputs": [],
   "source": [
    "data2.tail()"
   ]
  },
  {
   "cell_type": "code",
   "execution_count": null,
   "id": "542fa96e",
   "metadata": {},
   "outputs": [],
   "source": [
    "nasdaq_sym = pdr.get_nasdaq_symbols()"
   ]
  },
  {
   "cell_type": "code",
   "execution_count": null,
   "id": "ba282d02",
   "metadata": {},
   "outputs": [],
   "source": [
    "nasdaq_sym.loc['AAPL']"
   ]
  },
  {
   "cell_type": "code",
   "execution_count": null,
   "id": "3f1a6cd9",
   "metadata": {
    "scrolled": true
   },
   "outputs": [],
   "source": [
    "len(nasdaq_sym)"
   ]
  },
  {
   "cell_type": "code",
   "execution_count": null,
   "id": "c336cc76",
   "metadata": {},
   "outputs": [],
   "source": []
  }
 ],
 "metadata": {},
 "nbformat": 4,
 "nbformat_minor": 5
}
