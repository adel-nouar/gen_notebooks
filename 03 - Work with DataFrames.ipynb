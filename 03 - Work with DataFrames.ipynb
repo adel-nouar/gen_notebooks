{
 "cells": [
  {
   "cell_type": "markdown",
   "id": "f59439c3",
   "metadata": {},
   "source": [
    "<a \n",
    " href=\"https://colab.research.google.com/github/LearnPythonWithRune/FinancialDataAnalysisWithPython\"\n",
    " target=\"_parent\">\n",
    "<img \n",
    " src=\"https://colab.research.google.com/assets/colab-badge.svg\"\n",
    "alt=\"Open In Colab\"/>\n",
    "</a>"
   ]
  },
  {
   "cell_type": "markdown",
   "id": "030bc511",
   "metadata": {},
   "source": [
    "# Modify DataFrames and Useful functions\n",
    "- Calculate with columns\n",
    "- Create new columns\n",
    "- Drop columns\n",
    "- Min, Max, Argmin, and Argmax\n",
    "- Mean"
   ]
  },
  {
   "cell_type": "code",
   "execution_count": null,
   "id": "9eaa7ac2",
   "metadata": {},
   "outputs": [],
   "source": [
    "import pandas as pd"
   ]
  },
  {
   "cell_type": "code",
   "execution_count": null,
   "id": "edee73ee",
   "metadata": {},
   "outputs": [],
   "source": [
    "remote_file = \"https://raw.githubusercontent.com/LearnPythonWithRune/FinancialDataAnalysisWithPython/main/AAPL.csv\"\n",
    "data = pd.read_csv(remote_file, index_col=0, parse_dates=True)"
   ]
  },
  {
   "cell_type": "code",
   "execution_count": null,
   "id": "6b801212",
   "metadata": {},
   "outputs": [],
   "source": [
    "data.head()"
   ]
  },
  {
   "cell_type": "code",
   "execution_count": null,
   "id": "0e55b897",
   "metadata": {},
   "outputs": [],
   "source": [
    "data['Daily chg'] = data['Close'] - data['Open']"
   ]
  },
  {
   "cell_type": "code",
   "execution_count": null,
   "id": "60b40d7f",
   "metadata": {},
   "outputs": [],
   "source": [
    "data.head()"
   ]
  },
  {
   "cell_type": "code",
   "execution_count": null,
   "id": "b4088446",
   "metadata": {},
   "outputs": [],
   "source": [
    "data['Normalized'] = data['Close'] / data['Close'].iloc[0]"
   ]
  },
  {
   "cell_type": "code",
   "execution_count": null,
   "id": "58e1cfb4",
   "metadata": {},
   "outputs": [],
   "source": [
    "data.head()"
   ]
  },
  {
   "cell_type": "code",
   "execution_count": null,
   "id": "84f79c9f",
   "metadata": {},
   "outputs": [],
   "source": [
    "data.tail()"
   ]
  },
  {
   "cell_type": "code",
   "execution_count": null,
   "id": "d2748f0d",
   "metadata": {},
   "outputs": [],
   "source": [
    "data['Close'].min()"
   ]
  },
  {
   "cell_type": "code",
   "execution_count": null,
   "id": "4d47ef43",
   "metadata": {},
   "outputs": [],
   "source": [
    "data.min()"
   ]
  },
  {
   "cell_type": "code",
   "execution_count": null,
   "id": "58eb5bd5",
   "metadata": {},
   "outputs": [],
   "source": [
    "data['Close'].argmin()"
   ]
  },
  {
   "cell_type": "code",
   "execution_count": null,
   "id": "14b19793",
   "metadata": {},
   "outputs": [],
   "source": [
    "data.iloc[35:44]"
   ]
  },
  {
   "cell_type": "code",
   "execution_count": null,
   "id": "7d11a036",
   "metadata": {},
   "outputs": [],
   "source": [
    "data['Normalized'].min()"
   ]
  },
  {
   "cell_type": "code",
   "execution_count": null,
   "id": "29e864e3",
   "metadata": {},
   "outputs": [],
   "source": [
    "data['Normalized'].argmin()"
   ]
  },
  {
   "cell_type": "code",
   "execution_count": null,
   "id": "1096a891",
   "metadata": {},
   "outputs": [],
   "source": [
    "data['Close'].max()"
   ]
  },
  {
   "cell_type": "code",
   "execution_count": null,
   "id": "ee7ecdf1",
   "metadata": {},
   "outputs": [],
   "source": [
    "data['Close'].argmax()"
   ]
  },
  {
   "cell_type": "code",
   "execution_count": null,
   "id": "06337be9",
   "metadata": {},
   "outputs": [],
   "source": [
    "data.iloc[251:]"
   ]
  },
  {
   "cell_type": "code",
   "execution_count": null,
   "id": "370170c3",
   "metadata": {},
   "outputs": [],
   "source": [
    "data['Close'].mean()"
   ]
  },
  {
   "cell_type": "code",
   "execution_count": null,
   "id": "1ac945eb",
   "metadata": {},
   "outputs": [],
   "source": [
    "data.head()"
   ]
  },
  {
   "cell_type": "code",
   "execution_count": null,
   "id": "b6c17e38",
   "metadata": {},
   "outputs": [],
   "source": [
    "data.drop(labels=['High', 'Low', 'Adj Close', 'Volume'], axis=1, inplace=True)"
   ]
  },
  {
   "cell_type": "code",
   "execution_count": null,
   "id": "0c11a299",
   "metadata": {},
   "outputs": [],
   "source": [
    "data.head()"
   ]
  },
  {
   "cell_type": "code",
   "execution_count": null,
   "id": "6ab55f7c",
   "metadata": {},
   "outputs": [],
   "source": []
  }
 ],
 "metadata": {},
 "nbformat": 4,
 "nbformat_minor": 5
}
