{
 "cells": [
  {
   "cell_type": "markdown",
   "id": "a4d1e2ff",
   "metadata": {},
   "source": [
    "<a \n",
    " href=\"https://colab.research.google.com/github/LearnPythonWithRune/FinancialDataAnalysisWithPython\"\n",
    " target=\"_parent\">\n",
    "<img \n",
    " src=\"https://colab.research.google.com/assets/colab-badge.svg\"\n",
    "alt=\"Open In Colab\"/>\n",
    "</a>"
   ]
  },
  {
   "cell_type": "markdown",
   "id": "8707713b",
   "metadata": {},
   "source": [
    "# Introduction to DataFrames\n",
    "- Read data from CSV (downloadable from Yahoo! Finance)\n",
    "- Understand data types\n",
    "- Set index\n",
    "- Parse dates \n",
    "- Use index with **loc**\n",
    "- Use indexing with **iloc**"
   ]
  },
  {
   "cell_type": "code",
   "execution_count": null,
   "id": "e5af87de",
   "metadata": {},
   "outputs": [],
   "source": [
    "import pandas as pd"
   ]
  },
  {
   "cell_type": "code",
   "execution_count": null,
   "id": "a548d0bb",
   "metadata": {},
   "outputs": [],
   "source": [
    "remote_file = \"https://raw.githubusercontent.com/LearnPythonWithRune/FinancialDataAnalysisWithPython/main/AAPL.csv\"\n",
    "data = pd.read_csv(remote_file, index_col=0, parse_dates=True)"
   ]
  },
  {
   "cell_type": "code",
   "execution_count": null,
   "id": "b867160a",
   "metadata": {},
   "outputs": [],
   "source": [
    "data.head()"
   ]
  },
  {
   "cell_type": "code",
   "execution_count": null,
   "id": "e236d044",
   "metadata": {},
   "outputs": [],
   "source": [
    "data.dtypes"
   ]
  },
  {
   "cell_type": "code",
   "execution_count": null,
   "id": "33d0ec0a",
   "metadata": {},
   "outputs": [],
   "source": [
    "data.index"
   ]
  },
  {
   "cell_type": "code",
   "execution_count": null,
   "id": "c888b449",
   "metadata": {},
   "outputs": [],
   "source": [
    "data.loc['2020-01-27']"
   ]
  },
  {
   "cell_type": "code",
   "execution_count": null,
   "id": "a75d16c6",
   "metadata": {},
   "outputs": [],
   "source": [
    "data.loc['2021-01-01':]"
   ]
  },
  {
   "cell_type": "code",
   "execution_count": null,
   "id": "bdf6fba4",
   "metadata": {},
   "outputs": [],
   "source": [
    "data.loc[:'2020-07-01']"
   ]
  },
  {
   "cell_type": "code",
   "execution_count": null,
   "id": "8fb1ffc8",
   "metadata": {},
   "outputs": [],
   "source": [
    "data.iloc[0]"
   ]
  },
  {
   "cell_type": "code",
   "execution_count": null,
   "id": "05ae650c",
   "metadata": {},
   "outputs": [],
   "source": [
    "data.loc['2020-01-27']"
   ]
  },
  {
   "cell_type": "code",
   "execution_count": null,
   "id": "aef0f831",
   "metadata": {},
   "outputs": [],
   "source": [
    "data.iloc[-1]"
   ]
  },
  {
   "cell_type": "code",
   "execution_count": null,
   "id": "4fd4d462",
   "metadata": {},
   "outputs": [],
   "source": [
    "data.tail()"
   ]
  },
  {
   "cell_type": "code",
   "execution_count": null,
   "id": "e318f5b6",
   "metadata": {},
   "outputs": [],
   "source": []
  }
 ],
 "metadata": {},
 "nbformat": 4,
 "nbformat_minor": 5
}
