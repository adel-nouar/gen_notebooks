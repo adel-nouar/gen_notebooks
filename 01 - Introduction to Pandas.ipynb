{
 "cells": [
  {
   "cell_type": "markdown",
   "id": "6fe9c53a",
   "metadata": {},
   "source": [
    "<a \n",
    " href=\"https://colab.research.google.com/github/LearnPythonWithRune/FinancialDataAnalysisWithPython01 - Introduction to Pandas.ipynb\"\n",
    " target=\"_parent\">\n",
    "<img \n",
    " src=\"https://colab.research.google.com/assets/colab-badge.svg\"\n",
    "alt=\"Open In Colab\"/>\n",
    "</a>"
   ]
  },
  {
   "cell_type": "markdown",
   "id": "5f629cc7",
   "metadata": {},
   "source": [
    "# Introduction to DataFrames\n",
    "- Read data from CSV (downloadable from Yahoo! Finance)\n",
    "- Understand data types\n",
    "- Set index\n",
    "- Parse dates \n",
    "- Use index with **loc**\n",
    "- Use indexing with **iloc**"
   ]
  },
  {
   "cell_type": "code",
   "execution_count": null,
   "id": "a898fa1a",
   "metadata": {},
   "outputs": [],
   "source": [
    "import pandas as pd"
   ]
  },
  {
   "cell_type": "code",
   "execution_count": null,
   "id": "c0d76feb",
   "metadata": {},
   "outputs": [],
   "source": [
    "remote_file = \"https://raw.githubusercontent.com/LearnPythonWithRune/FinancialDataAnalysisWithPython/main/AAPL.csv\"\n",
    "data = pd.read_csv(remote_file, index_col=0, parse_dates=True)"
   ]
  },
  {
   "cell_type": "code",
   "execution_count": null,
   "id": "7ed27100",
   "metadata": {},
   "outputs": [],
   "source": [
    "data.head()"
   ]
  },
  {
   "cell_type": "code",
   "execution_count": null,
   "id": "f6d91499",
   "metadata": {},
   "outputs": [],
   "source": [
    "data.dtypes"
   ]
  },
  {
   "cell_type": "code",
   "execution_count": null,
   "id": "4f1f865f",
   "metadata": {},
   "outputs": [],
   "source": [
    "data.index"
   ]
  },
  {
   "cell_type": "code",
   "execution_count": null,
   "id": "a1b06c81",
   "metadata": {},
   "outputs": [],
   "source": [
    "data.loc['2020-01-27']"
   ]
  },
  {
   "cell_type": "code",
   "execution_count": null,
   "id": "8f74433d",
   "metadata": {},
   "outputs": [],
   "source": [
    "data.loc['2021-01-01':]"
   ]
  },
  {
   "cell_type": "code",
   "execution_count": null,
   "id": "f46853a9",
   "metadata": {},
   "outputs": [],
   "source": [
    "data.loc[:'2020-07-01']"
   ]
  },
  {
   "cell_type": "code",
   "execution_count": null,
   "id": "fda03c3f",
   "metadata": {},
   "outputs": [],
   "source": [
    "data.iloc[0]"
   ]
  },
  {
   "cell_type": "code",
   "execution_count": null,
   "id": "a9fed54d",
   "metadata": {},
   "outputs": [],
   "source": [
    "data.loc['2020-01-27']"
   ]
  },
  {
   "cell_type": "code",
   "execution_count": null,
   "id": "e02ec0cd",
   "metadata": {},
   "outputs": [],
   "source": [
    "data.iloc[-1]"
   ]
  },
  {
   "cell_type": "code",
   "execution_count": null,
   "id": "e122bcc4",
   "metadata": {},
   "outputs": [],
   "source": [
    "data.tail()"
   ]
  },
  {
   "cell_type": "code",
   "execution_count": null,
   "id": "43bd6d60",
   "metadata": {},
   "outputs": [],
   "source": []
  }
 ],
 "metadata": {},
 "nbformat": 4,
 "nbformat_minor": 5
}
