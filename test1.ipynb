{
 "cells": [
  {
   "cell_type": "markdown",
   "id": "45e2989b",
   "metadata": {},
   "source": [
    "<a \n",
    " href=\"https://colab.research.google.com/github/LearnPythonWithRune/gen_notebooks\"\n",
    " target=\"_parent\">\n",
    "<img \n",
    " src=\"https://colab.research.google.com/assets/colab-badge.svg\"\n",
    "alt=\"Open In Colab\"/>\n",
    "</a>"
   ]
  },
  {
   "cell_type": "markdown",
   "id": "275b4a91",
   "metadata": {},
   "source": [
    "# Introduction to DataFrames\n",
    "- Read data from CSV (downloadable from Yahoo! Finance)\n",
    "- Understand data types\n",
    "- Set index\n",
    "- Parse dates \n",
    "- Use index with **loc**\n",
    "- Use indexing with **iloc**"
   ]
  },
  {
   "cell_type": "code",
   "execution_count": null,
   "id": "0fcf76aa",
   "metadata": {},
   "outputs": [],
   "source": [
    "import pandas as pd"
   ]
  },
  {
   "cell_type": "code",
   "execution_count": null,
   "id": "15c898f7",
   "metadata": {},
   "outputs": [],
   "source": [
    "remote_file = \"https://raw.githubusercontent.com/LearnPythonWithRune/FinancialDataAnalysisWithPython/main/AAPL.csv\"\n",
    "data = pd.read_csv(remote_file, index_col=0, parse_dates=True)"
   ]
  },
  {
   "cell_type": "code",
   "execution_count": null,
   "id": "646ab892",
   "metadata": {},
   "outputs": [],
   "source": [
    "data.head()"
   ]
  },
  {
   "cell_type": "code",
   "execution_count": null,
   "id": "e77e136f",
   "metadata": {},
   "outputs": [],
   "source": [
    "data.dtypes"
   ]
  },
  {
   "cell_type": "code",
   "execution_count": null,
   "id": "af0cb11f",
   "metadata": {},
   "outputs": [],
   "source": [
    "data.index"
   ]
  },
  {
   "cell_type": "code",
   "execution_count": null,
   "id": "efc6cf47",
   "metadata": {},
   "outputs": [],
   "source": [
    "data.loc['2020-01-27']"
   ]
  },
  {
   "cell_type": "code",
   "execution_count": null,
   "id": "c7cd9af9",
   "metadata": {},
   "outputs": [],
   "source": [
    "data.loc['2021-01-01':]"
   ]
  },
  {
   "cell_type": "code",
   "execution_count": null,
   "id": "55aee361",
   "metadata": {},
   "outputs": [],
   "source": [
    "data.loc[:'2020-07-01']"
   ]
  },
  {
   "cell_type": "code",
   "execution_count": null,
   "id": "0e43f590",
   "metadata": {},
   "outputs": [],
   "source": [
    "data.iloc[0]"
   ]
  },
  {
   "cell_type": "code",
   "execution_count": null,
   "id": "ebe40e5c",
   "metadata": {},
   "outputs": [],
   "source": [
    "data.loc['2020-01-27']"
   ]
  },
  {
   "cell_type": "code",
   "execution_count": null,
   "id": "aa61e1bf",
   "metadata": {},
   "outputs": [],
   "source": [
    "data.iloc[-1]"
   ]
  },
  {
   "cell_type": "code",
   "execution_count": null,
   "id": "03ab49f2",
   "metadata": {},
   "outputs": [],
   "source": [
    "data.tail()"
   ]
  },
  {
   "cell_type": "code",
   "execution_count": null,
   "id": "5d34bee3",
   "metadata": {},
   "outputs": [],
   "source": []
  }
 ],
 "metadata": {},
 "nbformat": 4,
 "nbformat_minor": 5
}
